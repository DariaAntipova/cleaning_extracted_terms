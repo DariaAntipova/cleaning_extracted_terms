{
  "cells": [
    {
      "cell_type": "code",
      "execution_count": 3,
      "metadata": {
        "colab": {
          "base_uri": "https://localhost:8080/",
          "height": 1000
        },
        "id": "IHgmuUzaww64",
        "outputId": "4432d90a-ffbe-4696-98bc-d2a4cfc1f574"
      },
      "outputs": [
        {
          "output_type": "stream",
          "name": "stdout",
          "text": [
            "\u001b[33mWARNING: Ignoring invalid distribution -umpy (/usr/local/lib/python3.10/dist-packages)\u001b[0m\u001b[33m\n",
            "\u001b[0mRequirement already satisfied: pip in /usr/local/lib/python3.10/dist-packages (24.3.1)\n",
            "Requirement already satisfied: setuptools in /usr/local/lib/python3.10/dist-packages (75.3.0)\n",
            "Requirement already satisfied: wheel in /usr/local/lib/python3.10/dist-packages (0.44.0)\n",
            "\u001b[33mWARNING: Ignoring invalid distribution -umpy (/usr/local/lib/python3.10/dist-packages)\u001b[0m\u001b[33m\n",
            "\u001b[0m\u001b[33mWARNING: Ignoring invalid distribution -umpy (/usr/local/lib/python3.10/dist-packages)\u001b[0m\u001b[33m\n",
            "\u001b[0m\u001b[33mWARNING: Ignoring invalid distribution -umpy (/usr/local/lib/python3.10/dist-packages)\u001b[0m\u001b[33m\n",
            "\u001b[0mRequirement already satisfied: spacy in /usr/local/lib/python3.10/dist-packages (3.7.5)\n",
            "Collecting spacy\n",
            "  Using cached spacy-3.8.2-cp310-cp310-manylinux_2_17_x86_64.manylinux2014_x86_64.whl.metadata (27 kB)\n",
            "Requirement already satisfied: spacy-legacy<3.1.0,>=3.0.11 in /usr/local/lib/python3.10/dist-packages (from spacy) (3.0.12)\n",
            "Requirement already satisfied: spacy-loggers<2.0.0,>=1.0.0 in /usr/local/lib/python3.10/dist-packages (from spacy) (1.0.5)\n",
            "Requirement already satisfied: murmurhash<1.1.0,>=0.28.0 in /usr/local/lib/python3.10/dist-packages (from spacy) (1.0.10)\n",
            "Requirement already satisfied: cymem<2.1.0,>=2.0.2 in /usr/local/lib/python3.10/dist-packages (from spacy) (2.0.8)\n",
            "Requirement already satisfied: preshed<3.1.0,>=3.0.2 in /usr/local/lib/python3.10/dist-packages (from spacy) (3.0.9)\n",
            "Collecting thinc<8.4.0,>=8.3.0 (from spacy)\n",
            "  Using cached thinc-8.3.2-cp310-cp310-manylinux_2_17_x86_64.manylinux2014_x86_64.whl.metadata (15 kB)\n",
            "Requirement already satisfied: wasabi<1.2.0,>=0.9.1 in /usr/local/lib/python3.10/dist-packages (from spacy) (1.1.3)\n",
            "Requirement already satisfied: srsly<3.0.0,>=2.4.3 in /usr/local/lib/python3.10/dist-packages (from spacy) (2.4.8)\n",
            "Requirement already satisfied: catalogue<2.1.0,>=2.0.6 in /usr/local/lib/python3.10/dist-packages (from spacy) (2.0.10)\n",
            "Requirement already satisfied: weasel<0.5.0,>=0.1.0 in /usr/local/lib/python3.10/dist-packages (from spacy) (0.4.1)\n",
            "Requirement already satisfied: typer<1.0.0,>=0.3.0 in /usr/local/lib/python3.10/dist-packages (from spacy) (0.12.5)\n",
            "Requirement already satisfied: tqdm<5.0.0,>=4.38.0 in /usr/local/lib/python3.10/dist-packages (from spacy) (4.66.6)\n",
            "Requirement already satisfied: requests<3.0.0,>=2.13.0 in /usr/local/lib/python3.10/dist-packages (from spacy) (2.32.3)\n",
            "Requirement already satisfied: pydantic!=1.8,!=1.8.1,<3.0.0,>=1.7.4 in /usr/local/lib/python3.10/dist-packages (from spacy) (2.9.2)\n",
            "Requirement already satisfied: jinja2 in /usr/local/lib/python3.10/dist-packages (from spacy) (3.1.4)\n",
            "Requirement already satisfied: setuptools in /usr/local/lib/python3.10/dist-packages (from spacy) (75.3.0)\n",
            "Requirement already satisfied: packaging>=20.0 in /usr/local/lib/python3.10/dist-packages (from spacy) (24.1)\n",
            "Requirement already satisfied: langcodes<4.0.0,>=3.2.0 in /usr/local/lib/python3.10/dist-packages (from spacy) (3.4.1)\n",
            "Requirement already satisfied: numpy>=1.19.0 in /usr/local/lib/python3.10/dist-packages (from spacy) (2.0.2)\n",
            "Requirement already satisfied: language-data>=1.2 in /usr/local/lib/python3.10/dist-packages (from langcodes<4.0.0,>=3.2.0->spacy) (1.2.0)\n",
            "Requirement already satisfied: annotated-types>=0.6.0 in /usr/local/lib/python3.10/dist-packages (from pydantic!=1.8,!=1.8.1,<3.0.0,>=1.7.4->spacy) (0.7.0)\n",
            "Requirement already satisfied: pydantic-core==2.23.4 in /usr/local/lib/python3.10/dist-packages (from pydantic!=1.8,!=1.8.1,<3.0.0,>=1.7.4->spacy) (2.23.4)\n",
            "Requirement already satisfied: typing-extensions>=4.6.1 in /usr/local/lib/python3.10/dist-packages (from pydantic!=1.8,!=1.8.1,<3.0.0,>=1.7.4->spacy) (4.12.2)\n",
            "Requirement already satisfied: charset-normalizer<4,>=2 in /usr/local/lib/python3.10/dist-packages (from requests<3.0.0,>=2.13.0->spacy) (3.4.0)\n",
            "Requirement already satisfied: idna<4,>=2.5 in /usr/local/lib/python3.10/dist-packages (from requests<3.0.0,>=2.13.0->spacy) (3.10)\n",
            "Requirement already satisfied: urllib3<3,>=1.21.1 in /usr/local/lib/python3.10/dist-packages (from requests<3.0.0,>=2.13.0->spacy) (2.2.3)\n",
            "Requirement already satisfied: certifi>=2017.4.17 in /usr/local/lib/python3.10/dist-packages (from requests<3.0.0,>=2.13.0->spacy) (2024.8.30)\n",
            "Collecting blis<1.1.0,>=1.0.0 (from thinc<8.4.0,>=8.3.0->spacy)\n",
            "  Using cached blis-1.0.1-cp310-cp310-manylinux_2_17_x86_64.manylinux2014_x86_64.whl.metadata (7.6 kB)\n",
            "Requirement already satisfied: confection<1.0.0,>=0.0.1 in /usr/local/lib/python3.10/dist-packages (from thinc<8.4.0,>=8.3.0->spacy) (0.1.5)\n",
            "Requirement already satisfied: click>=8.0.0 in /usr/local/lib/python3.10/dist-packages (from typer<1.0.0,>=0.3.0->spacy) (8.1.7)\n",
            "Requirement already satisfied: shellingham>=1.3.0 in /usr/local/lib/python3.10/dist-packages (from typer<1.0.0,>=0.3.0->spacy) (1.5.4)\n",
            "Requirement already satisfied: rich>=10.11.0 in /usr/local/lib/python3.10/dist-packages (from typer<1.0.0,>=0.3.0->spacy) (13.9.3)\n",
            "Requirement already satisfied: cloudpathlib<1.0.0,>=0.7.0 in /usr/local/lib/python3.10/dist-packages (from weasel<0.5.0,>=0.1.0->spacy) (0.20.0)\n",
            "Requirement already satisfied: smart-open<8.0.0,>=5.2.1 in /usr/local/lib/python3.10/dist-packages (from weasel<0.5.0,>=0.1.0->spacy) (7.0.5)\n",
            "Requirement already satisfied: MarkupSafe>=2.0 in /usr/local/lib/python3.10/dist-packages (from jinja2->spacy) (3.0.2)\n",
            "Requirement already satisfied: marisa-trie>=0.7.7 in /usr/local/lib/python3.10/dist-packages (from language-data>=1.2->langcodes<4.0.0,>=3.2.0->spacy) (1.2.1)\n",
            "Requirement already satisfied: markdown-it-py>=2.2.0 in /usr/local/lib/python3.10/dist-packages (from rich>=10.11.0->typer<1.0.0,>=0.3.0->spacy) (3.0.0)\n",
            "Requirement already satisfied: pygments<3.0.0,>=2.13.0 in /usr/local/lib/python3.10/dist-packages (from rich>=10.11.0->typer<1.0.0,>=0.3.0->spacy) (2.18.0)\n",
            "Requirement already satisfied: wrapt in /usr/local/lib/python3.10/dist-packages (from smart-open<8.0.0,>=5.2.1->weasel<0.5.0,>=0.1.0->spacy) (1.16.0)\n",
            "Requirement already satisfied: mdurl~=0.1 in /usr/local/lib/python3.10/dist-packages (from markdown-it-py>=2.2.0->rich>=10.11.0->typer<1.0.0,>=0.3.0->spacy) (0.1.2)\n",
            "Using cached spacy-3.8.2-cp310-cp310-manylinux_2_17_x86_64.manylinux2014_x86_64.whl (29.1 MB)\n",
            "Using cached thinc-8.3.2-cp310-cp310-manylinux_2_17_x86_64.manylinux2014_x86_64.whl (3.7 MB)\n",
            "Using cached blis-1.0.1-cp310-cp310-manylinux_2_17_x86_64.manylinux2014_x86_64.whl (9.2 MB)\n",
            "\u001b[33mWARNING: Ignoring invalid distribution -umpy (/usr/local/lib/python3.10/dist-packages)\u001b[0m\u001b[33m\n",
            "\u001b[0mInstalling collected packages: blis, thinc, spacy\n",
            "  Attempting uninstall: blis\n",
            "    Found existing installation: blis 0.7.11\n",
            "    Uninstalling blis-0.7.11:\n",
            "      Successfully uninstalled blis-0.7.11\n",
            "  Attempting uninstall: thinc\n",
            "    Found existing installation: thinc 8.2.5\n",
            "    Uninstalling thinc-8.2.5:\n",
            "      Successfully uninstalled thinc-8.2.5\n",
            "  Attempting uninstall: spacy\n",
            "    Found existing installation: spacy 3.7.5\n",
            "    Uninstalling spacy-3.7.5:\n",
            "      Successfully uninstalled spacy-3.7.5\n",
            "\u001b[33mWARNING: Ignoring invalid distribution -umpy (/usr/local/lib/python3.10/dist-packages)\u001b[0m\u001b[33m\n",
            "\u001b[0m\u001b[31mERROR: pip's dependency resolver does not currently take into account all the packages that are installed. This behaviour is the source of the following dependency conflicts.\n",
            "en-core-web-sm 3.7.1 requires spacy<3.8.0,>=3.7.2, but you have spacy 3.8.2 which is incompatible.\u001b[0m\u001b[31m\n",
            "\u001b[0mSuccessfully installed blis-1.0.1 spacy-3.8.2 thinc-8.3.2\n"
          ]
        },
        {
          "output_type": "display_data",
          "data": {
            "application/vnd.colab-display-data+json": {
              "pip_warning": {
                "packages": [
                  "blis",
                  "thinc"
                ]
              },
              "id": "628e0d4bd7a44aa3a455181bc2118bdf"
            }
          },
          "metadata": {}
        }
      ],
      "source": [
        "# You must restart the runtime in order to use newly installed versions.\n",
        "!pip install -U pip setuptools wheel\n",
        "!pip install -U spacy"
      ]
    },
    {
      "cell_type": "code",
      "execution_count": 2,
      "metadata": {
        "colab": {
          "base_uri": "https://localhost:8080/"
        },
        "id": "UT8stXwMa7F3",
        "outputId": "6553d245-6bd7-4ac4-806f-9d42f9341972"
      },
      "outputs": [
        {
          "output_type": "stream",
          "name": "stdout",
          "text": [
            "\u001b[33mWARNING: Ignoring invalid distribution -umpy (/usr/local/lib/python3.10/dist-packages)\u001b[0m\u001b[33m\n",
            "\u001b[0mCollecting ru-core-news-lg==3.8.0\n",
            "  Downloading https://github.com/explosion/spacy-models/releases/download/ru_core_news_lg-3.8.0/ru_core_news_lg-3.8.0-py3-none-any.whl (513.4 MB)\n",
            "\u001b[2K     \u001b[90m━━━━━━━━━━━━━━━━━━━━━━━━━━━━━━━━━━━━━━━━\u001b[0m \u001b[32m513.4/513.4 MB\u001b[0m \u001b[31m41.1 MB/s\u001b[0m eta \u001b[36m0:00:00\u001b[0m\n",
            "\u001b[?25hCollecting pymorphy3>=1.0.0 (from ru-core-news-lg==3.8.0)\n",
            "  Downloading pymorphy3-2.0.2-py3-none-any.whl.metadata (1.8 kB)\n",
            "Collecting dawg-python>=0.7.1 (from pymorphy3>=1.0.0->ru-core-news-lg==3.8.0)\n",
            "  Downloading DAWG_Python-0.7.2-py2.py3-none-any.whl.metadata (7.0 kB)\n",
            "Collecting pymorphy3-dicts-ru (from pymorphy3>=1.0.0->ru-core-news-lg==3.8.0)\n",
            "  Downloading pymorphy3_dicts_ru-2.4.417150.4580142-py2.py3-none-any.whl.metadata (2.0 kB)\n",
            "Downloading pymorphy3-2.0.2-py3-none-any.whl (53 kB)\n",
            "Downloading DAWG_Python-0.7.2-py2.py3-none-any.whl (11 kB)\n",
            "Downloading pymorphy3_dicts_ru-2.4.417150.4580142-py2.py3-none-any.whl (8.4 MB)\n",
            "\u001b[2K   \u001b[90m━━━━━━━━━━━━━━━━━━━━━━━━━━━━━━━━━━━━━━━━\u001b[0m \u001b[32m8.4/8.4 MB\u001b[0m \u001b[31m76.6 MB/s\u001b[0m eta \u001b[36m0:00:00\u001b[0m\n",
            "\u001b[?25h\u001b[33mWARNING: Ignoring invalid distribution -umpy (/usr/local/lib/python3.10/dist-packages)\u001b[0m\u001b[33m\n",
            "\u001b[0mInstalling collected packages: pymorphy3-dicts-ru, dawg-python, pymorphy3, ru-core-news-lg\n",
            "\u001b[33mWARNING: Ignoring invalid distribution -umpy (/usr/local/lib/python3.10/dist-packages)\u001b[0m\u001b[33m\n",
            "\u001b[0mSuccessfully installed dawg-python-0.7.2 pymorphy3-2.0.2 pymorphy3-dicts-ru-2.4.417150.4580142 ru-core-news-lg-3.8.0\n",
            "\u001b[38;5;2m✔ Download and installation successful\u001b[0m\n",
            "You can now load the package via spacy.load('ru_core_news_lg')\n",
            "\u001b[38;5;3m⚠ Restart to reload dependencies\u001b[0m\n",
            "If you are in a Jupyter or Colab notebook, you may need to restart Python in\n",
            "order to load all the package's dependencies. You can do this by selecting the\n",
            "'Restart kernel' or 'Restart runtime' option.\n",
            "\u001b[33mWARNING: Ignoring invalid distribution -umpy (/usr/local/lib/python3.10/dist-packages)\u001b[0m\u001b[33m\n",
            "\u001b[0mCollecting en-core-web-trf==3.8.0\n",
            "  Downloading https://github.com/explosion/spacy-models/releases/download/en_core_web_trf-3.8.0/en_core_web_trf-3.8.0-py3-none-any.whl (457.4 MB)\n",
            "\u001b[2K     \u001b[90m━━━━━━━━━━━━━━━━━━━━━━━━━━━━━━━━━━━━━━━━\u001b[0m \u001b[32m457.4/457.4 MB\u001b[0m \u001b[31m34.6 MB/s\u001b[0m eta \u001b[36m0:00:00\u001b[0m\n",
            "\u001b[?25hCollecting spacy-curated-transformers<1.0.0,>=0.2.2 (from en-core-web-trf==3.8.0)\n",
            "  Downloading spacy_curated_transformers-0.3.0-py2.py3-none-any.whl.metadata (2.7 kB)\n",
            "Collecting curated-transformers<0.2.0,>=0.1.0 (from spacy-curated-transformers<1.0.0,>=0.2.2->en-core-web-trf==3.8.0)\n",
            "  Downloading curated_transformers-0.1.1-py2.py3-none-any.whl.metadata (965 bytes)\n",
            "Collecting curated-tokenizers<0.1.0,>=0.0.9 (from spacy-curated-transformers<1.0.0,>=0.2.2->en-core-web-trf==3.8.0)\n",
            "  Downloading curated_tokenizers-0.0.9-cp310-cp310-manylinux_2_17_x86_64.manylinux2014_x86_64.whl.metadata (1.9 kB)\n",
            "Requirement already satisfied: torch>=1.12.0 in /usr/local/lib/python3.10/dist-packages (from spacy-curated-transformers<1.0.0,>=0.2.2->en-core-web-trf==3.8.0) (2.5.0+cu121)\n",
            "Requirement already satisfied: regex>=2022 in /usr/local/lib/python3.10/dist-packages (from curated-tokenizers<0.1.0,>=0.0.9->spacy-curated-transformers<1.0.0,>=0.2.2->en-core-web-trf==3.8.0) (2024.9.11)\n",
            "Requirement already satisfied: filelock in /usr/local/lib/python3.10/dist-packages (from torch>=1.12.0->spacy-curated-transformers<1.0.0,>=0.2.2->en-core-web-trf==3.8.0) (3.16.1)\n",
            "Requirement already satisfied: typing-extensions>=4.8.0 in /usr/local/lib/python3.10/dist-packages (from torch>=1.12.0->spacy-curated-transformers<1.0.0,>=0.2.2->en-core-web-trf==3.8.0) (4.12.2)\n",
            "Requirement already satisfied: networkx in /usr/local/lib/python3.10/dist-packages (from torch>=1.12.0->spacy-curated-transformers<1.0.0,>=0.2.2->en-core-web-trf==3.8.0) (3.4.2)\n",
            "Requirement already satisfied: jinja2 in /usr/local/lib/python3.10/dist-packages (from torch>=1.12.0->spacy-curated-transformers<1.0.0,>=0.2.2->en-core-web-trf==3.8.0) (3.1.4)\n",
            "Requirement already satisfied: fsspec in /usr/local/lib/python3.10/dist-packages (from torch>=1.12.0->spacy-curated-transformers<1.0.0,>=0.2.2->en-core-web-trf==3.8.0) (2024.10.0)\n",
            "Requirement already satisfied: sympy==1.13.1 in /usr/local/lib/python3.10/dist-packages (from torch>=1.12.0->spacy-curated-transformers<1.0.0,>=0.2.2->en-core-web-trf==3.8.0) (1.13.1)\n",
            "Requirement already satisfied: mpmath<1.4,>=1.1.0 in /usr/local/lib/python3.10/dist-packages (from sympy==1.13.1->torch>=1.12.0->spacy-curated-transformers<1.0.0,>=0.2.2->en-core-web-trf==3.8.0) (1.3.0)\n",
            "Requirement already satisfied: MarkupSafe>=2.0 in /usr/local/lib/python3.10/dist-packages (from jinja2->torch>=1.12.0->spacy-curated-transformers<1.0.0,>=0.2.2->en-core-web-trf==3.8.0) (3.0.2)\n",
            "Downloading spacy_curated_transformers-0.3.0-py2.py3-none-any.whl (236 kB)\n",
            "Downloading curated_tokenizers-0.0.9-cp310-cp310-manylinux_2_17_x86_64.manylinux2014_x86_64.whl (731 kB)\n",
            "\u001b[2K   \u001b[90m━━━━━━━━━━━━━━━━━━━━━━━━━━━━━━━━━━━━━━━━\u001b[0m \u001b[32m731.6/731.6 kB\u001b[0m \u001b[31m22.2 MB/s\u001b[0m eta \u001b[36m0:00:00\u001b[0m\n",
            "\u001b[?25hDownloading curated_transformers-0.1.1-py2.py3-none-any.whl (25 kB)\n",
            "\u001b[33mWARNING: Ignoring invalid distribution -umpy (/usr/local/lib/python3.10/dist-packages)\u001b[0m\u001b[33m\n",
            "\u001b[0mInstalling collected packages: curated-tokenizers, curated-transformers, spacy-curated-transformers, en-core-web-trf\n",
            "\u001b[33mWARNING: Ignoring invalid distribution -umpy (/usr/local/lib/python3.10/dist-packages)\u001b[0m\u001b[33m\n",
            "\u001b[0mSuccessfully installed curated-tokenizers-0.0.9 curated-transformers-0.1.1 en-core-web-trf-3.8.0 spacy-curated-transformers-0.3.0\n",
            "\u001b[38;5;2m✔ Download and installation successful\u001b[0m\n",
            "You can now load the package via spacy.load('en_core_web_trf')\n",
            "\u001b[38;5;3m⚠ Restart to reload dependencies\u001b[0m\n",
            "If you are in a Jupyter or Colab notebook, you may need to restart Python in\n",
            "order to load all the package's dependencies. You can do this by selecting the\n",
            "'Restart kernel' or 'Restart runtime' option.\n",
            "\u001b[33mWARNING: Ignoring invalid distribution -umpy (/usr/local/lib/python3.10/dist-packages)\u001b[0m\u001b[33m\n",
            "\u001b[0mCollecting zh-core-web-trf==3.8.0\n",
            "  Downloading https://github.com/explosion/spacy-models/releases/download/zh_core_web_trf-3.8.0/zh_core_web_trf-3.8.0-py3-none-any.whl (415.1 MB)\n",
            "\u001b[2K     \u001b[90m━━━━━━━━━━━━━━━━━━━━━━━━━━━━━━━━━━━━━━━━\u001b[0m \u001b[32m415.1/415.1 MB\u001b[0m \u001b[31m44.2 MB/s\u001b[0m eta \u001b[36m0:00:00\u001b[0m\n",
            "\u001b[?25hRequirement already satisfied: spacy-curated-transformers<1.0.0,>=0.2.2 in /usr/local/lib/python3.10/dist-packages (from zh-core-web-trf==3.8.0) (0.3.0)\n",
            "Collecting spacy-pkuseg<2.0.0,>=1.0.0 (from zh-core-web-trf==3.8.0)\n",
            "  Downloading spacy_pkuseg-1.0.0-cp310-cp310-manylinux_2_17_x86_64.manylinux2014_x86_64.whl.metadata (13 kB)\n",
            "Requirement already satisfied: curated-transformers<0.2.0,>=0.1.0 in /usr/local/lib/python3.10/dist-packages (from spacy-curated-transformers<1.0.0,>=0.2.2->zh-core-web-trf==3.8.0) (0.1.1)\n",
            "Requirement already satisfied: curated-tokenizers<0.1.0,>=0.0.9 in /usr/local/lib/python3.10/dist-packages (from spacy-curated-transformers<1.0.0,>=0.2.2->zh-core-web-trf==3.8.0) (0.0.9)\n",
            "Requirement already satisfied: torch>=1.12.0 in /usr/local/lib/python3.10/dist-packages (from spacy-curated-transformers<1.0.0,>=0.2.2->zh-core-web-trf==3.8.0) (2.5.0+cu121)\n",
            "Requirement already satisfied: srsly<3.0.0,>=2.3.0 in /usr/local/lib/python3.10/dist-packages (from spacy-pkuseg<2.0.0,>=1.0.0->zh-core-web-trf==3.8.0) (2.4.8)\n",
            "Requirement already satisfied: numpy<3.0.0,>=2.0.0 in /usr/local/lib/python3.10/dist-packages (from spacy-pkuseg<2.0.0,>=1.0.0->zh-core-web-trf==3.8.0) (2.0.2)\n",
            "Requirement already satisfied: regex>=2022 in /usr/local/lib/python3.10/dist-packages (from curated-tokenizers<0.1.0,>=0.0.9->spacy-curated-transformers<1.0.0,>=0.2.2->zh-core-web-trf==3.8.0) (2024.9.11)\n",
            "Requirement already satisfied: catalogue<2.1.0,>=2.0.3 in /usr/local/lib/python3.10/dist-packages (from srsly<3.0.0,>=2.3.0->spacy-pkuseg<2.0.0,>=1.0.0->zh-core-web-trf==3.8.0) (2.0.10)\n",
            "Requirement already satisfied: filelock in /usr/local/lib/python3.10/dist-packages (from torch>=1.12.0->spacy-curated-transformers<1.0.0,>=0.2.2->zh-core-web-trf==3.8.0) (3.16.1)\n",
            "Requirement already satisfied: typing-extensions>=4.8.0 in /usr/local/lib/python3.10/dist-packages (from torch>=1.12.0->spacy-curated-transformers<1.0.0,>=0.2.2->zh-core-web-trf==3.8.0) (4.12.2)\n",
            "Requirement already satisfied: networkx in /usr/local/lib/python3.10/dist-packages (from torch>=1.12.0->spacy-curated-transformers<1.0.0,>=0.2.2->zh-core-web-trf==3.8.0) (3.4.2)\n",
            "Requirement already satisfied: jinja2 in /usr/local/lib/python3.10/dist-packages (from torch>=1.12.0->spacy-curated-transformers<1.0.0,>=0.2.2->zh-core-web-trf==3.8.0) (3.1.4)\n",
            "Requirement already satisfied: fsspec in /usr/local/lib/python3.10/dist-packages (from torch>=1.12.0->spacy-curated-transformers<1.0.0,>=0.2.2->zh-core-web-trf==3.8.0) (2024.10.0)\n",
            "Requirement already satisfied: sympy==1.13.1 in /usr/local/lib/python3.10/dist-packages (from torch>=1.12.0->spacy-curated-transformers<1.0.0,>=0.2.2->zh-core-web-trf==3.8.0) (1.13.1)\n",
            "Requirement already satisfied: mpmath<1.4,>=1.1.0 in /usr/local/lib/python3.10/dist-packages (from sympy==1.13.1->torch>=1.12.0->spacy-curated-transformers<1.0.0,>=0.2.2->zh-core-web-trf==3.8.0) (1.3.0)\n",
            "Requirement already satisfied: MarkupSafe>=2.0 in /usr/local/lib/python3.10/dist-packages (from jinja2->torch>=1.12.0->spacy-curated-transformers<1.0.0,>=0.2.2->zh-core-web-trf==3.8.0) (3.0.2)\n",
            "Downloading spacy_pkuseg-1.0.0-cp310-cp310-manylinux_2_17_x86_64.manylinux2014_x86_64.whl (4.1 MB)\n",
            "\u001b[2K   \u001b[90m━━━━━━━━━━━━━━━━━━━━━━━━━━━━━━━━━━━━━━━━\u001b[0m \u001b[32m4.1/4.1 MB\u001b[0m \u001b[31m46.4 MB/s\u001b[0m eta \u001b[36m0:00:00\u001b[0m\n",
            "\u001b[?25h\u001b[33mWARNING: Ignoring invalid distribution -umpy (/usr/local/lib/python3.10/dist-packages)\u001b[0m\u001b[33m\n",
            "\u001b[0mInstalling collected packages: spacy-pkuseg, zh-core-web-trf\n",
            "\u001b[33mWARNING: Ignoring invalid distribution -umpy (/usr/local/lib/python3.10/dist-packages)\u001b[0m\u001b[33m\n",
            "\u001b[0mSuccessfully installed spacy-pkuseg-1.0.0 zh-core-web-trf-3.8.0\n",
            "\u001b[38;5;2m✔ Download and installation successful\u001b[0m\n",
            "You can now load the package via spacy.load('zh_core_web_trf')\n",
            "\u001b[38;5;3m⚠ Restart to reload dependencies\u001b[0m\n",
            "If you are in a Jupyter or Colab notebook, you may need to restart Python in\n",
            "order to load all the package's dependencies. You can do this by selecting the\n",
            "'Restart kernel' or 'Restart runtime' option.\n"
          ]
        }
      ],
      "source": [
        "# Restart to reload dependencies.\n",
        "!python -m spacy download ru_core_news_lg\n",
        "!python -m spacy download en_core_web_trf\n",
        "!python -m spacy download zh_core_web_trf"
      ]
    },
    {
      "cell_type": "code",
      "execution_count": 1,
      "metadata": {
        "id": "OiSF5Hmwr6Jy",
        "colab": {
          "base_uri": "https://localhost:8080/"
        },
        "outputId": "bb56b469-29ab-4af1-f874-5cf9ea307b0a"
      },
      "outputs": [
        {
          "output_type": "stream",
          "name": "stderr",
          "text": [
            "/usr/local/lib/python3.10/dist-packages/thinc/shims/pytorch.py:261: FutureWarning: You are using `torch.load` with `weights_only=False` (the current default value), which uses the default pickle module implicitly. It is possible to construct malicious pickle data which will execute arbitrary code during unpickling (See https://github.com/pytorch/pytorch/blob/main/SECURITY.md#untrusted-models for more details). In a future release, the default value for `weights_only` will be flipped to `True`. This limits the functions that could be executed during unpickling. Arbitrary objects will no longer be allowed to be loaded via this mode unless they are explicitly allowlisted by the user via `torch.serialization.add_safe_globals`. We recommend you start setting `weights_only=True` for any use case where you don't have full control of the loaded file. Please open an issue on GitHub for any issues related to this experimental feature.\n",
            "  model.load_state_dict(torch.load(filelike, map_location=device))\n"
          ]
        }
      ],
      "source": [
        "import re\n",
        "import pandas as pd\n",
        "import string\n",
        "import spacy\n",
        "model_ru = spacy.load('ru_core_news_lg')\n",
        "model_en = spacy.load('en_core_web_trf')\n",
        "model_zh = spacy.load('zh_core_web_trf')"
      ]
    },
    {
      "cell_type": "code",
      "execution_count": 2,
      "metadata": {
        "id": "B4HR8qHHM9SR"
      },
      "outputs": [],
      "source": [
        "source_lang = 'en'\n",
        "valid_source_lang_codes = ['ru', 'en', 'zh']"
      ]
    },
    {
      "cell_type": "code",
      "source": [
        "allowed_abbr_patterns = r\"\\([а-яa-z]*[А-ЯA-Z]{2,}[а-яa-z]*[-а-яa-zА-ЯA-Z]*\\)|[а-яa-z]*[А-ЯA-Z]{2,}[а-яa-z]*[-а-яa-zА-ЯA-Z]* \\(.*\\)\"\n",
        "allowed_characters_enru = r\"^[а-яa-zА-ЯA-Z \\(\\)—–-]+$\""
      ],
      "metadata": {
        "id": "-TzzNvQ-IO1a"
      },
      "execution_count": 3,
      "outputs": []
    },
    {
      "cell_type": "code",
      "execution_count": 11,
      "metadata": {
        "id": "TYnu6ZbEKb5B"
      },
      "outputs": [],
      "source": [
        "#ru\n",
        "#extracted_terms = [{'id': 0, 'text': 'Название Учреждения'}, {'id': 1, 'text': 'Версия 1.0 от 20.10.2015 г.'}, {'id': 2, 'text': 'management system'}, {'id': 3, 'text': 'система менеджмента качества (принятая на производстве)'}, {'id': 4, 'text': 'система (принятая на производстве) менеджмента качества'}, {'id': 5, 'text': 'название модели: Turbo'}, {'id': 6, 'text': 'название отдела, департамента или подразделения'}, {'id': 7, 'text': 'контр-адмирал'}, {'id': 8, 'text': 'REV-STEMI-III'}, {'id': 9, 'text': 'тромб'}, {'id': 10, 'text': '«Берингер Ингельхайм Фарма» ГмбХ и КоКГ'}, {'id': 11, 'text': 'история болезни'}, {'id': 12, 'text': 'артериальное давление (АД)'}, {'id': 13, 'text': 'The source segments do not contain any terms to extract. They are all URLs or an email address, which do not represent specific terms or concepts.'}, {'id': 14, 'text': 'лиофилизат'}, {'id': 15, 'text': 'ЗАО «ГЕНЕРИУМ»'}, {'id': 16, 'text': 'на момент выписки'}, {'id': 17, 'text': 'антиагреганты'}, {'id': 18, 'text': 'антикоагулянты'}, {'id': 19, 'text': 'Пневмония'}, {'id': 20, 'text': 'неврологический дефицит'}, {'id': 21, 'text': 'III Фаза'}, {'id': 22, 'text': 'эндоваскулярные устройства'}, {'id': 23, 'text': 'Шкала NIHSS'}, {'id': 24, 'text': 'внутривенная сТЛТ (системная тромболитическая терапия)'}, {'id': 25, 'text': 'Симптомная геморрагическая трансформация'}, {'id': 26, 'text': 'систолическое АД (артериальное давление)'}, {'id': 27, 'text': 'clinicaltrials.gov'}, {'id': 28, 'text': 'механическая тромбэкстракция'}, {'id': 29, 'text': 'специализированные стационары'}, {'id': 30, 'text': 'Коронавирусная инфекция'}, {'id': 31, 'text': 'функциональные классы (ФК)'}, {'id': 32, 'text': '3—6 баллов MUP'}, {'id': 33, 'text': 'функциональное восстановление'}, {'id': 34, 'text': 'геморрагическая трансформация очага поражения головного мозга'}, {'id': 35, 'text': '№ КИ-20/13, версия № 4 от 15.12.2014 г'}, {'id': 36, 'text': 'тромбоз церебральных артерий'}, {'id': 37, 'text': 'терапия пациентов с ИИ'}, {'id': 38, 'text': 'последствия перенесенного ИИ'}, {'id': 39, 'text': 'инвалидизация'}, {'id': 40, 'text': 'сТЛТ (системная тромболитическая терапия)'}, {'id': 41, 'text': '0—2 балла MUIP'}, {'id': 42, 'text': 'Функциональное восстановление'}, {'id': 43, 'text': 'неврология'}, {'id': 44, 'text': 'закупорка церебральной артерии'}, {'id': 45, 'text': 'гипертоническая болезнь'}, {'id': 46, 'text': 'системная тромболитическая терапия (сТЛТ)'}, {'id': 47, 'text': 'МШР 0—2'}, {'id': 48, 'text': 'безопасность'}, {'id': 49, 'text': 'Коморбидность'}, {'id': 50, 'text': 'функциональная независимость'}, {'id': 51, 'text': 'тромб'}, {'id': 52, 'text': 'МШР (модифицированная шкала Рэнкина)'}, {'id': 53, 'text': 'телефонные контакты.'}, {'id': 54, 'text': 'Генеральная Ассамблея Всемирной медицинской ассоциации'}, {'id': 55, 'text': 'цереброваскулярные болезни'}, {'id': 56, 'text': 'первичные сосудистые отделения (ПСО)'}, {'id': 57, 'text': 'COVID-19'}, {'id': 58, 'text': 'Федеральный закон РФ от 12.04.2010 №61-ФЗ'}, {'id': 59, 'text': 'Через 1 ч после проведения сТЛТ'}, {'id': 60, 'text': 'глобальное бремя болезней'}, {'id': 61, 'text': 'параллельные группы'}, {'id': 62, 'text': 'искусственная вентиляция легких (ИВЛ)'}, {'id': 63, 'text': 'внутривенная сТЛТ'}, {'id': 64, 'text': 'Пандемия'}, {'id': 65, 'text': 'антропометрические измерения'}, {'id': 66, 'text': 'больничная летальность'}, {'id': 67, 'text': 'Время обследования'}, {'id': 68, 'text': 'Антикоагулянты'}, {'id': 69, 'text': 'Лабораторное тестирование'}, {'id': 70, 'text': 'Летальность'}, {'id': 71, 'text': 'Антиагреганты'}, {'id': 72, 'text': '90±7 дней после проведения сТЛТ'}, {'id': 73, 'text': 'На 7-е сутки'}, {'id': 74, 'text': '30±7 дней после проведения сТЛТ'}, {'id': 75, 'text': 'диастолическое АД (артериальное давление)'}, {'id': 76, 'text': 'глюкоза крови'}, {'id': 77, 'text': 'Правила клинической практики'}, {'id': 78, 'text': 'приказ Минздрава России от 01.04.2016 №200н'}, {'id': 79, 'text': 'пандемия COVID-19'}, {'id': 80, 'text': 'отдаленном периоде'}, {'id': 81, 'text': 'МШР'}, {'id': 82, 'text': 'Доля пациентов с неврологическим улучшением'}, {'id': 83, 'text': 'регресс неврологических симптомов'}, {'id': 84, 'text': 'Через 1 сут после проведения сТЛТ'}, {'id': 85, 'text': 'Шкала МШР'}, {'id': 86, 'text': 'АО «ГЕНЕРИУМ»'}, {'id': 87, 'text': 'модифицированная шкала Рэнкина (МШР)'}, {'id': 88, 'text': 'ст. 21 Конституции РФ'}, {'id': 89, 'text': 'Федеральный закон РФ от 21.11.2011 №323-ФЗ'}, {'id': 90, 'text': 'Вирус SARS-CoV-2'}, {'id': 91, 'text': 'эмбол'}, {'id': 92, 'text': 'симптомная геморрагическая трансформация'}, {'id': 93, 'text': 'Национальный стандарт РФ ГОСТ Р 52379-2005'}, {'id': 94, 'text': 'Постгоспитальный период'}, {'id': 95, 'text': 'Хельсинкская декларация'}, {'id': 96, 'text': 'При поступлении в стационар'}, {'id': 97, 'text': 'Ученый совет ФГБУ ФЦМН ФМБА России'}, {'id': 98, 'text': 'медицинская эвакуация'}, {'id': 99, 'text': 'Факторы риска развития ИИ'}, {'id': 100, 'text': 'Медицинская онлайн-платформа ROSMED.INFO'}, {'id': 101, 'text': 'реперфузионная терапия'}, {'id': 102, 'text': 'шкала NIHSS'}]"
      ]
    },
    {
      "cell_type": "code",
      "execution_count": 12,
      "metadata": {
        "id": "5Akae9DUpbOD"
      },
      "outputs": [],
      "source": [
        "#zh\n",
        "#extracted_terms = [{'id': 0, 'text': '贵,宾犬'}, {'id': 1, 'text': '松狮犬'}, {'id': 2, 'text': '牧羊犬'}, {'id': 3, 'text': '斗牛狗 (斗牛狗)'}, {'id': 4, 'text': '拳师狗'}, {'id': 5, 'text': '杜宾犬: Turbo'}, {'id': 6, 'text': '英 国 古 代 牧 羊 犬'}, {'id': 7, 'text': '圣伯纳狗'}, {'id': 8, 'text': '动物'}, {'id': 9, 'text': '鱼'}, {'id': 10, 'text': '猫'}, {'id': 11, 'text': '大象'}]"
      ]
    },
    {
      "cell_type": "code",
      "source": [
        "#en\n",
        "extracted_terms = [\n",
        "    {'id': 1, 'text': 'loading/unloading station'},\n",
        "    {'id': 2, 'text': 'planned dates of delivery for loading'},\n",
        "    {'id': 3, 'text': 'installation of locking and sealing devices on cars'},\n",
        "    {'id': 4, 'text': 'financial lease (leasing)'},\n",
        "    {'id': 5, 'text': \"payer's bank account\"},\n",
        "    {'id': 6, 'text': 'certificate of an independent surveyor company'},\n",
        "    {'id': 7, 'text': 'planned dates of delivery for loading'},\n",
        "    {'id': 8, 'text': 'pre-trial claim procedure for dispute settlement'},\n",
        "    {'id': 9, 'text': 'Phase III'},\n",
        "    {'id': 10, 'text': 'antiplatelets'},\n",
        "    {'id': 11, 'text': 'blood pressure (BP)'},\n",
        "    {'id': 12, 'text': 'proportion for patients with neurological improvement'},\n",
        "    {'id': 13, 'text': 'cerebral artery obstruction'},\n",
        "    {'id': 14, 'text': 'mechanical ventilation'},\n",
        "    {'id': 15, 'text': 'mRS (modified Rankin Scale)'},\n",
        "    {'id': 16, 'text': 'departments of vascular surgery (DVSs)'},\n",
        "    {'id': 17, 'text': 'treatment of patients with IS'},\n",
        "    {'id': 18, 'text': 'functional classes (FC)'},\n",
        "    {'id': 19, 'text': 'the functional class'},\n",
        "    {'id': 20, 'text': 'official'},\n",
        "    ]"
      ],
      "metadata": {
        "id": "5eWWfJynCcr-"
      },
      "execution_count": 13,
      "outputs": []
    },
    {
      "cell_type": "code",
      "execution_count": 14,
      "metadata": {
        "id": "YyM1b9XKbRXv"
      },
      "outputs": [],
      "source": [
        "def dealing_with_brackets(extracted_terms):\n",
        "# Process terms with parentheses\n",
        "# - Add terms matching the patterns \"abbreviation (expansion)\" or \"expansion (abbreviation)\" to the glossary; abbreviations can be in forms such as \"AD,\" \"cTLT,\" or \"cTLT-Pr.\"\n",
        "# - In all other cases, do not add terms containing parentheses to the glossary.\n",
        "# - Add terms without parentheses unchanged.\n",
        "    extracted_terms_brackets = []\n",
        "    for term in extracted_terms:\n",
        "        if re.search(r\"\\(.*\\)\", term['text']):\n",
        "            if re.search(allowed_abbr_patterns, term['text']):\n",
        "                extracted_terms_brackets.append(term)\n",
        "        else:\n",
        "            extracted_terms_brackets.append(term)\n",
        "    return(extracted_terms_brackets)"
      ]
    },
    {
      "cell_type": "code",
      "execution_count": 15,
      "metadata": {
        "id": "hwwHTRvVyJfW"
      },
      "outputs": [],
      "source": [
        "def filter_extracted_terms_by_ner(extracted_terms, source_lang):\n",
        "# Remove terms with named entities\n",
        "    if source_lang == 'ru':\n",
        "        model = model_ru\n",
        "    elif source_lang == 'en':\n",
        "        model = model_en\n",
        "    elif source_lang == 'zh':\n",
        "        model = model_zh\n",
        "    filtered_extracted_terms = []\n",
        "    for i in extracted_terms:\n",
        "        if len(model(i['text']).ents) == 0:\n",
        "            filtered_extracted_terms.append(i)\n",
        "    return filtered_extracted_terms"
      ]
    },
    {
      "cell_type": "code",
      "execution_count": 16,
      "metadata": {
        "id": "RQ_Lc-lbPC_e"
      },
      "outputs": [],
      "source": [
        "def cleaning_extracted_terms(extracted_terms, source_lang):\n",
        "    if source_lang in valid_source_lang_codes:\n",
        "        extracted_terms_wo_ents = filter_extracted_terms_by_ner(extracted_terms, source_lang)\n",
        "        print(extracted_terms_wo_ents)\n",
        "        extracted_terms_brackets = dealing_with_brackets(extracted_terms_wo_ents)\n",
        "        print(extracted_terms_brackets)\n",
        "        # To do: add additional cleaning for Chinese in the future\n",
        "        if source_lang == 'zh':\n",
        "            return(extracted_terms_brackets)\n",
        "        else:\n",
        "            # Clean glossary inclusion criteria\n",
        "            # Add only terms containing Cyrillic or Latin characters, spaces, and the symbols '—', '–', and '-' to the clean glossary. Additionally, remove the following:\n",
        "            # - Terms that do not contain any letters from the source language\n",
        "            # - Terms with more than 5 words in Russian or more than 4 words in English\n",
        "            # - Terms in English that contain the preposition 'of'\n",
        "            # - Terms where all letters are uppercase\n",
        "            # - Duplicates\n",
        "            clean_extracted_terms = []\n",
        "            for term in extracted_terms_brackets:\n",
        "                if (term['text'].isupper() == False and re.search(allowed_characters_enru, term['text']) and\n",
        "                    term['text'].strip() not in [d['text'] for d in clean_extracted_terms]):\n",
        "                    if (source_lang == 'ru' and re.search(r\"^[^а-яА-Я]+$\", term['text']) == None and\n",
        "                        term['text'].strip().count(' ') < 5):\n",
        "                        clean_extracted_terms.append(term)\n",
        "                    if (source_lang == 'en' and re.search(r\"^[^a-zA-Z]+$|\\bof\\b\", term['text']) == None and\n",
        "                        term['text'].strip().count(' ') < 4):\n",
        "                        clean_extracted_terms.append(term)\n",
        "            return(clean_extracted_terms)\n",
        "    else:\n",
        "      empty_gloss = []\n",
        "      return(empty_gloss)"
      ]
    },
    {
      "cell_type": "code",
      "execution_count": 17,
      "metadata": {
        "colab": {
          "base_uri": "https://localhost:8080/"
        },
        "id": "fcpIkvolWv9Q",
        "outputId": "93196e21-90bd-4833-843b-f52f9cf44fd9"
      },
      "outputs": [
        {
          "output_type": "stream",
          "name": "stdout",
          "text": [
            "[{'id': 1, 'text': 'loading/unloading station'}, {'id': 2, 'text': 'planned dates of delivery for loading'}, {'id': 3, 'text': 'installation of locking and sealing devices on cars'}, {'id': 4, 'text': 'financial lease (leasing)'}, {'id': 5, 'text': \"payer's bank account\"}, {'id': 6, 'text': 'certificate of an independent surveyor company'}, {'id': 7, 'text': 'planned dates of delivery for loading'}, {'id': 8, 'text': 'pre-trial claim procedure for dispute settlement'}, {'id': 10, 'text': 'antiplatelets'}, {'id': 11, 'text': 'blood pressure (BP)'}, {'id': 12, 'text': 'proportion for patients with neurological improvement'}, {'id': 13, 'text': 'cerebral artery obstruction'}, {'id': 14, 'text': 'mechanical ventilation'}, {'id': 15, 'text': 'mRS (modified Rankin Scale)'}, {'id': 16, 'text': 'departments of vascular surgery (DVSs)'}, {'id': 17, 'text': 'treatment of patients with IS'}, {'id': 18, 'text': 'functional classes (FC)'}, {'id': 19, 'text': 'the functional class'}, {'id': 20, 'text': 'official'}]\n",
            "[{'id': 1, 'text': 'loading/unloading station'}, {'id': 2, 'text': 'planned dates of delivery for loading'}, {'id': 3, 'text': 'installation of locking and sealing devices on cars'}, {'id': 5, 'text': \"payer's bank account\"}, {'id': 6, 'text': 'certificate of an independent surveyor company'}, {'id': 7, 'text': 'planned dates of delivery for loading'}, {'id': 8, 'text': 'pre-trial claim procedure for dispute settlement'}, {'id': 10, 'text': 'antiplatelets'}, {'id': 11, 'text': 'blood pressure (BP)'}, {'id': 12, 'text': 'proportion for patients with neurological improvement'}, {'id': 13, 'text': 'cerebral artery obstruction'}, {'id': 14, 'text': 'mechanical ventilation'}, {'id': 15, 'text': 'mRS (modified Rankin Scale)'}, {'id': 16, 'text': 'departments of vascular surgery (DVSs)'}, {'id': 17, 'text': 'treatment of patients with IS'}, {'id': 18, 'text': 'functional classes (FC)'}, {'id': 19, 'text': 'the functional class'}, {'id': 20, 'text': 'official'}]\n"
          ]
        },
        {
          "output_type": "execute_result",
          "data": {
            "text/plain": [
              "[{'id': 10, 'text': 'antiplatelets'},\n",
              " {'id': 11, 'text': 'blood pressure (BP)'},\n",
              " {'id': 13, 'text': 'cerebral artery obstruction'},\n",
              " {'id': 14, 'text': 'mechanical ventilation'},\n",
              " {'id': 15, 'text': 'mRS (modified Rankin Scale)'},\n",
              " {'id': 18, 'text': 'functional classes (FC)'},\n",
              " {'id': 19, 'text': 'the functional class'},\n",
              " {'id': 20, 'text': 'official'}]"
            ]
          },
          "metadata": {},
          "execution_count": 17
        }
      ],
      "source": [
        "clean_extracted_terms = cleaning_extracted_terms(extracted_terms, source_lang)\n",
        "clean_extracted_terms"
      ]
    },
    {
      "cell_type": "code",
      "execution_count": 18,
      "metadata": {
        "colab": {
          "base_uri": "https://localhost:8080/"
        },
        "id": "TUCV-aYqwiYX",
        "outputId": "d3aea1f0-951d-4f9e-f1ab-28fd4bf3025f"
      },
      "outputs": [
        {
          "output_type": "execute_result",
          "data": {
            "text/plain": [
              "[[{'id': 1, 'text': 'loading/unloading station'}, 'deleted'],\n",
              " [{'id': 2, 'text': 'planned dates of delivery for loading'}, 'deleted'],\n",
              " [{'id': 3, 'text': 'installation of locking and sealing devices on cars'},\n",
              "  'deleted'],\n",
              " [{'id': 4, 'text': 'financial lease (leasing)'}, 'deleted'],\n",
              " [{'id': 5, 'text': \"payer's bank account\"}, 'deleted'],\n",
              " [{'id': 6, 'text': 'certificate of an independent surveyor company'},\n",
              "  'deleted'],\n",
              " [{'id': 7, 'text': 'planned dates of delivery for loading'}, 'deleted'],\n",
              " [{'id': 8, 'text': 'pre-trial claim procedure for dispute settlement'},\n",
              "  'deleted'],\n",
              " [{'id': 9, 'text': 'Phase III'}, 'deleted'],\n",
              " [{'id': 10, 'text': 'antiplatelets'}, {'id': 10, 'text': 'antiplatelets'}],\n",
              " [{'id': 11, 'text': 'blood pressure (BP)'},\n",
              "  {'id': 11, 'text': 'blood pressure (BP)'}],\n",
              " [{'id': 12, 'text': 'proportion for patients with neurological improvement'},\n",
              "  'deleted'],\n",
              " [{'id': 13, 'text': 'cerebral artery obstruction'},\n",
              "  {'id': 13, 'text': 'cerebral artery obstruction'}],\n",
              " [{'id': 14, 'text': 'mechanical ventilation'},\n",
              "  {'id': 14, 'text': 'mechanical ventilation'}],\n",
              " [{'id': 15, 'text': 'mRS (modified Rankin Scale)'},\n",
              "  {'id': 15, 'text': 'mRS (modified Rankin Scale)'}],\n",
              " [{'id': 16, 'text': 'departments of vascular surgery (DVSs)'}, 'deleted'],\n",
              " [{'id': 17, 'text': 'treatment of patients with IS'}, 'deleted'],\n",
              " [{'id': 18, 'text': 'functional classes (FC)'},\n",
              "  {'id': 18, 'text': 'functional classes (FC)'}],\n",
              " [{'id': 19, 'text': 'the functional class'},\n",
              "  {'id': 19, 'text': 'the functional class'}],\n",
              " [{'id': 20, 'text': 'official'}, {'id': 20, 'text': 'official'}]]"
            ]
          },
          "metadata": {},
          "execution_count": 18
        }
      ],
      "source": [
        "# Check which terms were removed and which ones remain.\n",
        "list_of_deleted_terms = []\n",
        "\n",
        "for term in extracted_terms:\n",
        "  if term['text'] not in [d['text'] for d in clean_extracted_terms]:\n",
        "    list_of_deleted_terms.append([term, 'deleted'])\n",
        "  else:\n",
        "    list_of_deleted_terms.append([term, term])\n",
        "\n",
        "list_of_deleted_terms"
      ]
    }
  ],
  "metadata": {
    "colab": {
      "provenance": []
    },
    "kernelspec": {
      "display_name": "Python 3",
      "name": "python3"
    },
    "language_info": {
      "name": "python"
    }
  },
  "nbformat": 4,
  "nbformat_minor": 0
}